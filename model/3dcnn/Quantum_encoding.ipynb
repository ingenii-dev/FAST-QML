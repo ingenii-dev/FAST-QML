{
 "cells": [
  {
   "cell_type": "code",
   "execution_count": 1,
   "id": "acaa5461-59ab-4385-85de-bd028f457fe7",
   "metadata": {},
   "outputs": [
    {
     "name": "stderr",
     "output_type": "stream",
     "text": [
      "/home/vscode/.local/lib/python3.10/site-packages/tqdm/auto.py:22: TqdmWarning: IProgress not found. Please update jupyter and ipywidgets. See https://ipywidgets.readthedocs.io/en/stable/user_install.html\n",
      "  from .autonotebook import tqdm as notebook_tqdm\n"
     ]
    }
   ],
   "source": [
    "import random\n",
    "import numpy as np\n",
    "from model import Model_3DCNN, strip_prefix_if_present\n",
    "from data_reader import Dataset_MLHDF\n",
    "from img_util import GaussianFilter, Voxelizer3D\n",
    "from file_util import *\n",
    "import torch\n",
    "import torch.nn as nn\n",
    "\n",
    "from torch.nn.parallel import DataParallel, DistributedDataParallel\n",
    "from torch.optim import Adam, RMSprop, lr_scheduler\n",
    "from torch.utils.data import Dataset, DataLoader, Subset"
   ]
  },
  {
   "cell_type": "code",
   "execution_count": 2,
   "id": "14231b64-5535-4bc5-ab79-9ad139e47388",
   "metadata": {},
   "outputs": [
    {
     "name": "stderr",
     "output_type": "stream",
     "text": [
      "/home/vscode/.local/lib/python3.10/site-packages/torch/functional.py:478: UserWarning: torch.meshgrid: in an upcoming release, it will be required to pass the indexing argument. (Triggered internally at  ../aten/src/ATen/native/TensorShape.cpp:2895.)\n",
      "  return _VF.meshgrid(tensors, **kwargs)  # type: ignore[attr-defined]\n"
     ]
    }
   ],
   "source": [
    "dataset = Dataset_MLHDF('../../data/processed/pdbbind2016_general_train.hdf', 1, '../../data/processed/general_train_3dnn.csv', is_crystal=True, rmsd_weight=0, rmsd_thres=2)\n",
    "dataloader = DataLoader(dataset, batch_size=50, shuffle=True, num_workers=0, worker_init_fn=None)\n",
    "voxelizer = Voxelizer3D(use_cuda=False, verbose=1)\n",
    "gaussian_filter = GaussianFilter(dim=3, channels=19, kernel_size=11, sigma=1, use_cuda=False)"
   ]
  },
  {
   "cell_type": "code",
   "execution_count": 3,
   "id": "10cbf296-b121-4280-aa0f-d7e69acb86ec",
   "metadata": {},
   "outputs": [],
   "source": [
    "device = torch.device(\"cpu\")\n",
    "vol_batch = torch.zeros((50,19,48,48,48)).float().to(device)\n",
    "for batch_ind, batch in enumerate(dataloader):\n",
    "    x_batch, y_batch = batch\n",
    "       # voxelize into 3d volume\n",
    "    for i in range(x_batch.shape[0]):\n",
    "        xyz, feat = x_batch[i,:,:3], x_batch[i,:,3:]\n",
    "        vol_batch[i,:,:,:,:] = voxelizer(xyz, feat)\n",
    "    vol_batch_gaus = gaussian_filter(vol_batch)"
   ]
  },
  {
   "cell_type": "code",
   "execution_count": 4,
   "id": "a684535f-b28e-4fae-92ce-d88c229c8c34",
   "metadata": {},
   "outputs": [
    {
     "ename": "AttributeError",
     "evalue": "'AxesSubplot' object has no attribute 'voxels'",
     "output_type": "error",
     "traceback": [
      "\u001b[0;31m---------------------------------------------------------------------------\u001b[0m",
      "\u001b[0;31mAttributeError\u001b[0m                            Traceback (most recent call last)",
      "Input \u001b[0;32mIn [4]\u001b[0m, in \u001b[0;36m<cell line: 11>\u001b[0;34m()\u001b[0m\n\u001b[1;32m      9\u001b[0m colors \u001b[38;5;241m=\u001b[39m plt\u001b[38;5;241m.\u001b[39mcm\u001b[38;5;241m.\u001b[39mplasma(d)\n\u001b[1;32m     10\u001b[0m norm \u001b[38;5;241m=\u001b[39m matplotlib\u001b[38;5;241m.\u001b[39mcolors\u001b[38;5;241m.\u001b[39mNormalize(vmin\u001b[38;5;241m=\u001b[39m\u001b[38;5;241m0\u001b[39m, vmax\u001b[38;5;241m=\u001b[39m\u001b[38;5;241m1\u001b[39m)\n\u001b[0;32m---> 11\u001b[0m \u001b[43max1\u001b[49m\u001b[38;5;241;43m.\u001b[39;49m\u001b[43mvoxels\u001b[49m(d,facecolors\u001b[38;5;241m=\u001b[39mcolors,alpha \u001b[38;5;241m=\u001b[39m \u001b[38;5;241m0.5\u001b[39m,edgecolor\u001b[38;5;241m=\u001b[39m\u001b[38;5;124m'\u001b[39m\u001b[38;5;124mk\u001b[39m\u001b[38;5;124m'\u001b[39m)\n\u001b[1;32m     13\u001b[0m m \u001b[38;5;241m=\u001b[39m cm\u001b[38;5;241m.\u001b[39mScalarMappable(cmap\u001b[38;5;241m=\u001b[39mplt\u001b[38;5;241m.\u001b[39mcm\u001b[38;5;241m.\u001b[39mplasma, norm\u001b[38;5;241m=\u001b[39mnorm)\n\u001b[1;32m     14\u001b[0m m\u001b[38;5;241m.\u001b[39mset_array([])\n",
      "\u001b[0;31mAttributeError\u001b[0m: 'AxesSubplot' object has no attribute 'voxels'"
     ]
    },
    {
     "data": {
      "image/png": "[encoded data removed]",
      "text/plain": [
       "<Figure size 720x360 with 2 Axes>"
      ]
     },
     "metadata": {
      "needs_background": "light"
     },
     "output_type": "display_data"
    }
   ],
   "source": [
    "import matplotlib.pyplot as plt\n",
    "from matplotlib import cm\n",
    "import matplotlib.colors\n",
    "\n",
    "d2 = vol_batch_gaus[0][1].numpy()\n",
    "d = vol_batch[0][1].numpy()\n",
    "\n",
    "fig, (ax1,ax2) = plt.subplots(1,2,figsize=(10,5))\n",
    "colors = plt.cm.plasma(d)\n",
    "norm = matplotlib.colors.Normalize(vmin=0, vmax=1)\n",
    "ax1.voxels(d,facecolors=colors,alpha = 0.5,edgecolor='k')\n",
    "\n",
    "m = cm.ScalarMappable(cmap=plt.cm.plasma, norm=norm)\n",
    "m.set_array([])\n",
    "plt.colorbar(m)\n",
    "ax1.set_xlabel('X')\n",
    "ax1.set_ylabel('Y')\n",
    "ax1.set_zlabel('Z')\n",
    "\n",
    "ax2.voxels(d2,facecolors=colors,alpha = 0.5,edgecolor='k')\n",
    "m = cm.ScalarMappable(cmap=plt.cm.plasma, norm=norm)\n",
    "m.set_array([])\n",
    "plt.colorbar(m)\n",
    "ax2.set_xlabel('X')\n",
    "ax2.set_ylabel('Y')\n",
    "ax2.set_zlabel('Z')\n",
    "\n",
    "plt.show()"
   ]
  },
  {
   "cell_type": "markdown",
   "id": "a8382180-2968-44ab-82e1-55bfa0809fdd",
   "metadata": {},
   "source": [
    "## Quantum encoding\n",
    "\n",
    "We etrieve blocks of (2x2x2) from the image and encode them in a quantum circuit. We explore different techniques of data encoding."
   ]
  },
  {
   "cell_type": "code",
   "execution_count": null,
   "id": "54f30902-05f6-4ce4-9b62-028eb6b822db",
   "metadata": {},
   "outputs": [],
   "source": [
    "d = vol_batch_gaus[0][1].numpy()\n",
    "\n",
    "# Rolling 3D window for ND array\n",
    "def roll(a,      # ND array\n",
    "         b,      # rolling 2D window array\n",
    "         dx=1,   # horizontal step, abscissa, number of columns\n",
    "         dy=1,   # vertical step, ordinate, number of rows\n",
    "         dz=1):  # transverse step, applicate, number of layers\n",
    "    shape = a.shape[:-3] + \\\n",
    "            ((a.shape[-3] - b.shape[-3]) // dz + 1,) + \\\n",
    "            ((a.shape[-2] - b.shape[-2]) // dy + 1,) + \\\n",
    "            ((a.shape[-1] - b.shape[-1]) // dx + 1,) + \\\n",
    "            b.shape  # multidimensional \"sausage\" with 3D cross-section\n",
    "    strides = a.strides[:-3] + \\\n",
    "              (a.strides[-3] * dz,) + \\\n",
    "              (a.strides[-2] * dy,) + \\\n",
    "              (a.strides[-1] * dx,) + \\\n",
    "              a.strides[-3:]\n",
    "    print('shape =', shape, \" strides =\", strides)  # for debugging\n",
    "    return np.lib.stride_tricks.as_strided(a, shape=shape, strides=strides)\n",
    "\n",
    "b=np.zeros((2,2,2))\n",
    "windows = roll(d,b,dx=2,dy=2,dz=2).reshape(-1,2,2,2)\n",
    "windows.shape"
   ]
  }
 ],
 "metadata": {
  "kernelspec": {
   "display_name": "Python 3 (ipykernel)",
   "language": "python",
   "name": "python3"
  },
  "language_info": {
   "codemirror_mode": {
    "name": "ipython",
    "version": 3
   },
   "file_extension": ".py",
   "mimetype": "text/x-python",
   "name": "python",
   "nbconvert_exporter": "python",
   "pygments_lexer": "ipython3",
   "version": "3.10.4"
  }
 },
 "nbformat": 4,
 "nbformat_minor": 5
}
