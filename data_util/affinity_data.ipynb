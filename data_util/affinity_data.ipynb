{
 "cells": [
  {
   "cell_type": "markdown",
   "id": "b1d2cb8e",
   "metadata": {},
   "source": [
    "# Loading data"
   ]
  },
  {
   "cell_type": "code",
   "execution_count": 6,
   "id": "7b2f3412",
   "metadata": {},
   "outputs": [],
   "source": [
    "import torch\n",
    "import pandas as pd"
   ]
  },
  {
   "cell_type": "code",
   "execution_count": 13,
   "id": "9052bd1b",
   "metadata": {},
   "outputs": [
    {
     "name": "stdout",
     "output_type": "stream",
     "text": [
      "Defaulting to user installation because normal site-packages is not writeable\n",
      "Collecting matplotlib\n",
      "  Downloading matplotlib-3.5.2-cp310-cp310-manylinux_2_17_x86_64.manylinux2014_x86_64.whl (11.9 MB)\n",
      "\u001b[2K     \u001b[38;2;114;156;31m━━━━━━━━━━━━━━━━━━━━━━━━━━━━━━━━━━━━━━━━\u001b[0m \u001b[32m11.9/11.9 MB\u001b[0m \u001b[31m4.3 MB/s\u001b[0m eta \u001b[36m0:00:00\u001b[0mm eta \u001b[36m0:00:01\u001b[0m[36m0:00:01\u001b[0m\n",
      "\u001b[?25hCollecting cycler>=0.10\n",
      "  Downloading cycler-0.11.0-py3-none-any.whl (6.4 kB)\n",
      "Requirement already satisfied: packaging>=20.0 in /home/vscode/.local/lib/python3.10/site-packages (from matplotlib) (21.3)\n",
      "Requirement already satisfied: python-dateutil>=2.7 in /home/vscode/.local/lib/python3.10/site-packages (from matplotlib) (2.8.2)\n",
      "Requirement already satisfied: numpy>=1.17 in /usr/local/lib/python3.10/site-packages (from matplotlib) (1.23.0)\n",
      "Collecting fonttools>=4.22.0\n",
      "  Downloading fonttools-4.33.3-py3-none-any.whl (930 kB)\n",
      "\u001b[2K     \u001b[38;2;114;156;31m━━━━━━━━━━━━━━━━━━━━━━━━━━━━━━━━━━━━━━━\u001b[0m \u001b[32m930.9/930.9 KB\u001b[0m \u001b[31m5.7 MB/s\u001b[0m eta \u001b[36m0:00:00\u001b[0m MB/s\u001b[0m eta \u001b[36m0:00:01\u001b[0m:01\u001b[0m\n",
      "\u001b[?25hCollecting kiwisolver>=1.0.1\n",
      "  Downloading kiwisolver-1.4.3-cp310-cp310-manylinux_2_12_x86_64.manylinux2010_x86_64.whl (1.6 MB)\n",
      "\u001b[2K     \u001b[38;2;114;156;31m━━━━━━━━━━━━━━━━━━━━━━━━━━━━━━━━━━━━━━━━\u001b[0m \u001b[32m1.6/1.6 MB\u001b[0m \u001b[31m4.6 MB/s\u001b[0m eta \u001b[36m0:00:00\u001b[0mm eta \u001b[36m0:00:01\u001b[0m0:01\u001b[0m:01\u001b[0m\n",
      "\u001b[?25hRequirement already satisfied: pyparsing>=2.2.1 in /home/vscode/.local/lib/python3.10/site-packages (from matplotlib) (3.0.9)\n",
      "Requirement already satisfied: pillow>=6.2.0 in /usr/local/lib/python3.10/site-packages (from matplotlib) (9.1.1)\n",
      "Requirement already satisfied: six>=1.5 in /home/vscode/.local/lib/python3.10/site-packages (from python-dateutil>=2.7->matplotlib) (1.16.0)\n",
      "Installing collected packages: kiwisolver, fonttools, cycler, matplotlib\n",
      "Successfully installed cycler-0.11.0 fonttools-4.33.3 kiwisolver-1.4.3 matplotlib-3.5.2\n",
      "\u001b[33mWARNING: You are using pip version 22.0.4; however, version 22.1.2 is available.\n",
      "You should consider upgrading via the '/usr/local/bin/python -m pip install --upgrade pip' command.\u001b[0m\u001b[33m\n",
      "\u001b[0m"
     ]
    }
   ],
   "source": [
    "!pip install matplotlib"
   ]
  },
  {
   "cell_type": "code",
   "execution_count": 68,
   "id": "4733c872",
   "metadata": {},
   "outputs": [],
   "source": [
    "# import required libraries\n",
    "import h5py as h5\n",
    "import numpy as np\n",
    "import matplotlib.pyplot as plt\n",
    "\n",
    "# Read H5 file\n",
    "f = h5.File(\"core_test.hdf\", \"r\")\n",
    "# Get and print list of datasets within the H5 file\n",
    "datasetNames = [n for n in f.keys()]\n",
    "data = f.values()"
   ]
  },
  {
   "cell_type": "code",
   "execution_count": 69,
   "id": "949ca20e",
   "metadata": {},
   "outputs": [
    {
     "data": {
      "text/plain": [
       "290"
      ]
     },
     "execution_count": 69,
     "metadata": {},
     "output_type": "execute_result"
    }
   ],
   "source": [
    "len(datasetNames)"
   ]
  },
  {
   "cell_type": "code",
   "execution_count": 90,
   "id": "edace33f",
   "metadata": {},
   "outputs": [
    {
     "ename": "NameError",
     "evalue": "name 'f' is not defined",
     "output_type": "error",
     "traceback": [
      "\u001b[0;31m---------------------------------------------------------------------------\u001b[0m",
      "\u001b[0;31mNameError\u001b[0m                                 Traceback (most recent call last)",
      "Input \u001b[0;32mIn [90]\u001b[0m, in \u001b[0;36m<cell line: 1>\u001b[0;34m()\u001b[0m\n\u001b[0;32m----> 1\u001b[0m mlhdf_ds \u001b[38;5;241m=\u001b[39m \u001b[43mf\u001b[49m[datasetNames[\u001b[38;5;241m0\u001b[39m]][\u001b[38;5;124m'\u001b[39m\u001b[38;5;124mpybel\u001b[39m\u001b[38;5;124m'\u001b[39m][\u001b[38;5;124m'\u001b[39m\u001b[38;5;124mprocessed\u001b[39m\u001b[38;5;124m'\u001b[39m]\n\u001b[1;32m      2\u001b[0m actual_data \u001b[38;5;241m=\u001b[39m mlhdf_ds[\u001b[38;5;124m\"\u001b[39m\u001b[38;5;124mdata\u001b[39m\u001b[38;5;124m\"\u001b[39m][:]\n",
      "\u001b[0;31mNameError\u001b[0m: name 'f' is not defined"
     ]
    }
   ],
   "source": [
    "mlhdf_ds = f[datasetNames[0]]['pybel']['processed']\n",
    "actual_data = mlhdf_ds[\"data\"][:]"
   ]
  },
  {
   "cell_type": "code",
   "execution_count": null,
   "id": "34e4e1f8",
   "metadata": {},
   "outputs": [],
   "source": [
    "parser.add_argument(\"--data-dir\", default=\"/home/kim63/data\", help=\"dataset directory\")\n",
    "parser.add_argument(\"--mlhdf-fn\", default=\"pdbbind2019_crystal_refined_ml.hdf\", help=\"training ml-hdf path\")\n",
    "parser.add_argument(\"--dataset-type\", type=float, default=1, help=\"ml-hdf version, (1: for fusion, 1.5: for cfusion 2: ml-hdf v2)\")\n",
    "parser.add_argument(\"--csv-fn\", default=\"pdbbind2019_crystal_refined.csv\", help=\"training csv file path\")\n",
    "parser.add_argument(\"--rmsd-weight\", action='store_false', default=0, help=\"whether rmsd-based weighted loss is used or not\")\n",
    "parser.add_argument(\"--rmsd-threshold\", type=float, default=2, help=\"rmsd cut-off threshold in case of docking data and/or --rmsd-weight is true\")\n"
   ]
  },
  {
   "cell_type": "code",
   "execution_count": 62,
   "id": "51caf417",
   "metadata": {},
   "outputs": [],
   "source": [
    "from data_reader import Dataset_MLHDF\n",
    "import os\n",
    "args = {}\n",
    "args['data_dir'] = './'\n",
    "args['mlhdf_fn'] = 'core_test.hdf'\n",
    "args['dataset_type'] = 1\n",
    "args['csv_fn'] = 'pdbbind_2016_train_val_test.csv'\n",
    "args['rmsd_weight'] = 0\n",
    "args['rmsd_threshold'] = 2\n",
    "#args = pd.DataFrame.from_dict(args,orient='index').T"
   ]
  },
  {
   "cell_type": "code",
   "execution_count": 63,
   "id": "0287e632",
   "metadata": {},
   "outputs": [
    {
     "ename": "ValueError",
     "evalue": "could not convert string to float: '3zzf'",
     "output_type": "error",
     "traceback": [
      "\u001b[0;31m---------------------------------------------------------------------------\u001b[0m",
      "\u001b[0;31mValueError\u001b[0m                                Traceback (most recent call last)",
      "Input \u001b[0;32mIn [63]\u001b[0m, in \u001b[0;36m<cell line: 1>\u001b[0;34m()\u001b[0m\n\u001b[0;32m----> 1\u001b[0m dataset \u001b[38;5;241m=\u001b[39m \u001b[43mDataset_MLHDF\u001b[49m\u001b[43m(\u001b[49m\u001b[43mos\u001b[49m\u001b[38;5;241;43m.\u001b[39;49m\u001b[43mpath\u001b[49m\u001b[38;5;241;43m.\u001b[39;49m\u001b[43mjoin\u001b[49m\u001b[43m(\u001b[49m\u001b[43margs\u001b[49m\u001b[43m[\u001b[49m\u001b[38;5;124;43m'\u001b[39;49m\u001b[38;5;124;43mdata_dir\u001b[39;49m\u001b[38;5;124;43m'\u001b[39;49m\u001b[43m]\u001b[49m\u001b[43m,\u001b[49m\u001b[43m \u001b[49m\u001b[43margs\u001b[49m\u001b[43m[\u001b[49m\u001b[38;5;124;43m'\u001b[39;49m\u001b[38;5;124;43mmlhdf_fn\u001b[39;49m\u001b[38;5;124;43m'\u001b[39;49m\u001b[43m]\u001b[49m\u001b[43m)\u001b[49m\u001b[43m,\u001b[49m\u001b[43m \u001b[49m\u001b[43margs\u001b[49m\u001b[43m[\u001b[49m\u001b[38;5;124;43m'\u001b[39;49m\u001b[38;5;124;43mdataset_type\u001b[39;49m\u001b[38;5;124;43m'\u001b[39;49m\u001b[43m]\u001b[49m\u001b[43m,\u001b[49m\u001b[43m \u001b[49m\u001b[43mos\u001b[49m\u001b[38;5;241;43m.\u001b[39;49m\u001b[43mpath\u001b[49m\u001b[38;5;241;43m.\u001b[39;49m\u001b[43mjoin\u001b[49m\u001b[43m(\u001b[49m\u001b[43margs\u001b[49m\u001b[43m[\u001b[49m\u001b[38;5;124;43m'\u001b[39;49m\u001b[38;5;124;43mdata_dir\u001b[39;49m\u001b[38;5;124;43m'\u001b[39;49m\u001b[43m]\u001b[49m\u001b[43m,\u001b[49m\u001b[43m \u001b[49m\u001b[43margs\u001b[49m\u001b[43m[\u001b[49m\u001b[38;5;124;43m'\u001b[39;49m\u001b[38;5;124;43mcsv_fn\u001b[39;49m\u001b[38;5;124;43m'\u001b[39;49m\u001b[43m]\u001b[49m\u001b[43m)\u001b[49m\u001b[43m,\u001b[49m\u001b[43m \u001b[49m\u001b[43mis_crystal\u001b[49m\u001b[38;5;241;43m=\u001b[39;49m\u001b[38;5;28;43;01mFalse\u001b[39;49;00m\u001b[43m,\u001b[49m\u001b[43m \u001b[49m\u001b[43mrmsd_weight\u001b[49m\u001b[38;5;241;43m=\u001b[39;49m\u001b[43margs\u001b[49m\u001b[43m[\u001b[49m\u001b[38;5;124;43m'\u001b[39;49m\u001b[38;5;124;43mrmsd_weight\u001b[39;49m\u001b[38;5;124;43m'\u001b[39;49m\u001b[43m]\u001b[49m\u001b[43m,\u001b[49m\u001b[43m \u001b[49m\u001b[43mrmsd_thres\u001b[49m\u001b[38;5;241;43m=\u001b[39;49m\u001b[43margs\u001b[49m\u001b[43m[\u001b[49m\u001b[38;5;124;43m'\u001b[39;49m\u001b[38;5;124;43mrmsd_threshold\u001b[39;49m\u001b[38;5;124;43m'\u001b[39;49m\u001b[43m]\u001b[49m\u001b[43m)\u001b[49m\n",
      "File \u001b[0;32m/workspaces/FAST-QML/data_reader.py:44\u001b[0m, in \u001b[0;36mDataset_MLHDF.__init__\u001b[0;34m(self, mlhdf_path, mlhdf_ver, csv_path, is_crystal, rmsd_weight, rmsd_thres, max_atoms, feat_dim)\u001b[0m\n\u001b[1;32m     42\u001b[0m \t\t\u001b[38;5;28mnext\u001b[39m(csv_reader)\n\u001b[1;32m     43\u001b[0m \t\t\u001b[38;5;28;01mfor\u001b[39;00m row \u001b[38;5;129;01min\u001b[39;00m csv_reader:\n\u001b[0;32m---> 44\u001b[0m \t\t\t\u001b[38;5;28;01mif\u001b[39;00m \u001b[38;5;28;43mfloat\u001b[39;49m\u001b[43m(\u001b[49m\u001b[43mrow\u001b[49m\u001b[43m[\u001b[49m\u001b[38;5;241;43m2\u001b[39;49m\u001b[43m]\u001b[49m\u001b[43m)\u001b[49m \u001b[38;5;241m<\u001b[39m\u001b[38;5;241m=\u001b[39m rmsd_thres:\n\u001b[1;32m     45\u001b[0m \t\t\t\t\u001b[38;5;28mself\u001b[39m\u001b[38;5;241m.\u001b[39mdata_info_list\u001b[38;5;241m.\u001b[39mappend([row[\u001b[38;5;241m0\u001b[39m], row[\u001b[38;5;241m1\u001b[39m], \u001b[38;5;28mfloat\u001b[39m(row[\u001b[38;5;241m2\u001b[39m]), \u001b[38;5;28mfloat\u001b[39m(row[\u001b[38;5;241m3\u001b[39m])])\n\u001b[1;32m     46\u001b[0m \u001b[38;5;28;01mexcept\u001b[39;00m \u001b[38;5;167;01mIOError\u001b[39;00m:\n",
      "\u001b[0;31mValueError\u001b[0m: could not convert string to float: '3zzf'"
     ]
    }
   ],
   "source": [
    "dataset = Dataset_MLHDF(os.path.join(args['data_dir'], args['mlhdf_fn']), args['dataset_type'], os.path.join(args['data_dir'], args['csv_fn']), is_crystal=False, rmsd_weight=args['rmsd_weight'], rmsd_thres=args['rmsd_threshold'])"
   ]
  },
  {
   "cell_type": "markdown",
   "id": "6e05ceec-4393-4502-be24-56c7bc42e340",
   "metadata": {},
   "source": [
    "## Affinity data"
   ]
  },
  {
   "cell_type": "code",
   "execution_count": 33,
   "id": "dda9bd26-1088-461b-9f71-b094526cac25",
   "metadata": {},
   "outputs": [],
   "source": [
    "import pandas as pd\n",
    "import numpy as np\n",
    "import os\n",
    "import seaborn as sns\n",
    "import random"
   ]
  },
  {
   "cell_type": "code",
   "execution_count": 9,
   "id": "72055832-1e4d-40f6-9a1d-2d7c92d15fb2",
   "metadata": {},
   "outputs": [],
   "source": [
    "# path to the extracted PDBbind dataset\n",
    "path = './'"
   ]
  },
  {
   "cell_type": "code",
   "execution_count": 10,
   "id": "ad2b2162-5ef3-4739-9a2f-809471632cba",
   "metadata": {},
   "outputs": [],
   "source": [
    "%%bash -s $path --out missing\n",
    "\n",
    "path=$1\n",
    "\n",
    "# Save binding affinities to csv file\n",
    "\n",
    "echo 'pdbid,-logKd/Ki' > affinity_data.csv\n",
    "cat $path/general-set-except-refined/index/INDEX_general_PL_data.2016 | while read l1 l2 l3 l4 l5; do\n",
    "    if [[ ! $l1 =~ \"#\" ]]; then\n",
    "        echo $l1,$l4\n",
    "    fi\n",
    "done >> affinity_data.csv\n",
    "\n",
    "\n",
    "# Find affinities without structural data (i.e. with missing directories)\n",
    "\n",
    "cut -f 1 -d ',' affinity_data.csv | tail -n +2 | while read l;\n",
    "    do if [ ! -e $path/general-set-except-refined/$l ] &&  [ ! -e $path/refined-set/$l ]; then\n",
    "        echo $l;\n",
    "    fi\n",
    "done"
   ]
  },
  {
   "cell_type": "code",
   "execution_count": 11,
   "id": "6e6851c6-262b-4501-b260-e6305363b14d",
   "metadata": {},
   "outputs": [
    {
     "data": {
      "text/plain": [
       "1"
      ]
     },
     "execution_count": 11,
     "metadata": {},
     "output_type": "execute_result"
    }
   ],
   "source": [
    "missing = set(missing.split())\n",
    "len(missing)"
   ]
  },
  {
   "cell_type": "code",
   "execution_count": 12,
   "id": "9dc70e67-40f7-4548-908c-fdd4cfe81bc4",
   "metadata": {},
   "outputs": [
    {
     "data": {
      "text/html": [
       "<div>\n",
       "<style scoped>\n",
       "    .dataframe tbody tr th:only-of-type {\n",
       "        vertical-align: middle;\n",
       "    }\n",
       "\n",
       "    .dataframe tbody tr th {\n",
       "        vertical-align: top;\n",
       "    }\n",
       "\n",
       "    .dataframe thead th {\n",
       "        text-align: right;\n",
       "    }\n",
       "</style>\n",
       "<table border=\"1\" class=\"dataframe\">\n",
       "  <thead>\n",
       "    <tr style=\"text-align: right;\">\n",
       "      <th></th>\n",
       "      <th>pdbid</th>\n",
       "      <th>-logKd/Ki</th>\n",
       "    </tr>\n",
       "  </thead>\n",
       "  <tbody>\n",
       "    <tr>\n",
       "      <th>0</th>\n",
       "      <td>3zzf</td>\n",
       "      <td>0.40</td>\n",
       "    </tr>\n",
       "    <tr>\n",
       "      <th>1</th>\n",
       "      <td>3gww</td>\n",
       "      <td>0.45</td>\n",
       "    </tr>\n",
       "    <tr>\n",
       "      <th>2</th>\n",
       "      <td>1w8l</td>\n",
       "      <td>0.49</td>\n",
       "    </tr>\n",
       "    <tr>\n",
       "      <th>3</th>\n",
       "      <td>3fqa</td>\n",
       "      <td>0.49</td>\n",
       "    </tr>\n",
       "    <tr>\n",
       "      <th>4</th>\n",
       "      <td>1zsb</td>\n",
       "      <td>0.60</td>\n",
       "    </tr>\n",
       "  </tbody>\n",
       "</table>\n",
       "</div>"
      ],
      "text/plain": [
       "  pdbid  -logKd/Ki\n",
       "0  3zzf       0.40\n",
       "1  3gww       0.45\n",
       "2  1w8l       0.49\n",
       "3  3fqa       0.49\n",
       "4  1zsb       0.60"
      ]
     },
     "execution_count": 12,
     "metadata": {},
     "output_type": "execute_result"
    }
   ],
   "source": [
    "affinity_data = pd.read_csv('affinity_data.csv', comment='#')\n",
    "affinity_data = affinity_data[~np.in1d(affinity_data['pdbid'], list(missing))]\n",
    "affinity_data.head()"
   ]
  },
  {
   "cell_type": "code",
   "execution_count": 13,
   "id": "5672f420-6830-4255-97e0-09789e4ec9d0",
   "metadata": {},
   "outputs": [
    {
     "data": {
      "text/plain": [
       "False"
      ]
     },
     "execution_count": 13,
     "metadata": {},
     "output_type": "execute_result"
    }
   ],
   "source": [
    "# Check for NaNs\n",
    "affinity_data['-logKd/Ki'].isnull().any()"
   ]
  },
  {
   "cell_type": "code",
   "execution_count": 24,
   "id": "08e5bdc1-f529-4b16-8744-b9b2c4e973f2",
   "metadata": {},
   "outputs": [
    {
     "data": {
      "text/plain": [
       "(13307, 4057, 285)"
      ]
     },
     "execution_count": 24,
     "metadata": {},
     "output_type": "execute_result"
    }
   ],
   "source": [
    " # Separate core, refined, and general sets\n",
    "\n",
    "#core_set = ! grep -v '#' $path/general-set-except-refined/index/INDEX_core_data.2016 | cut -f 1 -d ' '\n",
    "core_set = set([ f.path[11:] for f in os.scandir('./core-set') if f.is_dir() ])#set(core_set)\n",
    "\n",
    "refined_set = ! grep -v '#' $path/general-set-except-refined/index/INDEX_refined_data.2016 | cut -f 1 -d ' '\n",
    "refined_set = set(refined_set)\n",
    "\n",
    "general_set = set(affinity_data['pdbid'])\n",
    "\n",
    "\n",
    "assert core_set & refined_set == core_set\n",
    "assert refined_set & general_set == refined_set\n",
    "\n",
    "len(general_set), len(refined_set), len(core_set)"
   ]
  },
  {
   "cell_type": "code",
   "execution_count": 25,
   "id": "0b1a5093-9a6e-45c8-8034-c5eac955544b",
   "metadata": {},
   "outputs": [
    {
     "data": {
      "text/html": [
       "<div>\n",
       "<style scoped>\n",
       "    .dataframe tbody tr th:only-of-type {\n",
       "        vertical-align: middle;\n",
       "    }\n",
       "\n",
       "    .dataframe tbody tr th {\n",
       "        vertical-align: top;\n",
       "    }\n",
       "\n",
       "    .dataframe thead th {\n",
       "        text-align: right;\n",
       "    }\n",
       "</style>\n",
       "<table border=\"1\" class=\"dataframe\">\n",
       "  <thead>\n",
       "    <tr style=\"text-align: right;\">\n",
       "      <th></th>\n",
       "      <th>pdbid</th>\n",
       "      <th>-logKd/Ki</th>\n",
       "      <th>set</th>\n",
       "    </tr>\n",
       "  </thead>\n",
       "  <tbody>\n",
       "    <tr>\n",
       "      <th>0</th>\n",
       "      <td>3zzf</td>\n",
       "      <td>0.40</td>\n",
       "      <td>general</td>\n",
       "    </tr>\n",
       "    <tr>\n",
       "      <th>1</th>\n",
       "      <td>3gww</td>\n",
       "      <td>0.45</td>\n",
       "      <td>general</td>\n",
       "    </tr>\n",
       "    <tr>\n",
       "      <th>2</th>\n",
       "      <td>1w8l</td>\n",
       "      <td>0.49</td>\n",
       "      <td>general</td>\n",
       "    </tr>\n",
       "    <tr>\n",
       "      <th>3</th>\n",
       "      <td>3fqa</td>\n",
       "      <td>0.49</td>\n",
       "      <td>general</td>\n",
       "    </tr>\n",
       "    <tr>\n",
       "      <th>4</th>\n",
       "      <td>1zsb</td>\n",
       "      <td>0.60</td>\n",
       "      <td>general</td>\n",
       "    </tr>\n",
       "  </tbody>\n",
       "</table>\n",
       "</div>"
      ],
      "text/plain": [
       "  pdbid  -logKd/Ki      set\n",
       "0  3zzf       0.40  general\n",
       "1  3gww       0.45  general\n",
       "2  1w8l       0.49  general\n",
       "3  3fqa       0.49  general\n",
       "4  1zsb       0.60  general"
      ]
     },
     "execution_count": 25,
     "metadata": {},
     "output_type": "execute_result"
    }
   ],
   "source": [
    "affinity_data.loc[np.in1d(affinity_data['pdbid'], list(general_set)), 'set'] = 'general'\n",
    "\n",
    "affinity_data.loc[np.in1d(affinity_data['pdbid'], list(refined_set)), 'set'] = 'refined'\n",
    "\n",
    "affinity_data.loc[np.in1d(affinity_data['pdbid'], list(core_set)), 'set'] = 'core'\n",
    "\n",
    "affinity_data.head()"
   ]
  },
  {
   "cell_type": "code",
   "execution_count": 26,
   "id": "1cb0de9f-f243-4155-a087-8a042bb75aa5",
   "metadata": {},
   "outputs": [
    {
     "data": {
      "text/plain": [
       "set\n",
       "general    9250\n",
       "refined    3772\n",
       "core        285\n",
       "dtype: int64"
      ]
     },
     "execution_count": 26,
     "metadata": {},
     "output_type": "execute_result"
    }
   ],
   "source": [
    "affinity_data.groupby('set').apply(len).loc[['general', 'refined', 'core']]"
   ]
  },
  {
   "cell_type": "code",
   "execution_count": 27,
   "id": "95a0b3b7-79ac-4129-b783-5e66b52de584",
   "metadata": {},
   "outputs": [
    {
     "name": "stderr",
     "output_type": "stream",
     "text": [
      "/home/vscode/.local/lib/python3.10/site-packages/seaborn/axisgrid.py:337: UserWarning: The `size` parameter has been renamed to `height`; please update your code.\n",
      "  warnings.warn(msg, UserWarning)\n",
      "/home/vscode/.local/lib/python3.10/site-packages/seaborn/distributions.py:2619: FutureWarning: `distplot` is a deprecated function and will be removed in a future version. Please adapt your code to use either `displot` (a figure-level function with similar flexibility) or `histplot` (an axes-level function for histograms).\n",
      "  warnings.warn(msg, FutureWarning)\n",
      "/home/vscode/.local/lib/python3.10/site-packages/seaborn/distributions.py:2619: FutureWarning: `distplot` is a deprecated function and will be removed in a future version. Please adapt your code to use either `displot` (a figure-level function with similar flexibility) or `histplot` (an axes-level function for histograms).\n",
      "  warnings.warn(msg, FutureWarning)\n",
      "/home/vscode/.local/lib/python3.10/site-packages/seaborn/distributions.py:2619: FutureWarning: `distplot` is a deprecated function and will be removed in a future version. Please adapt your code to use either `displot` (a figure-level function with similar flexibility) or `histplot` (an axes-level function for histograms).\n",
      "  warnings.warn(msg, FutureWarning)\n"
     ]
    },
    {
     "data": {
      "image/png": "[encoded data removed]",
      "text/plain": [
       "<Figure size 648x648 with 3 Axes>"
      ]
     },
     "metadata": {
      "needs_background": "light"
     },
     "output_type": "display_data"
    }
   ],
   "source": [
    "grid = sns.FacetGrid(affinity_data, row='set', row_order=['general', 'refined', 'core'],\n",
    "                     size=3, aspect=3)\n",
    "grid.map(sns.distplot, '-logKd/Ki');"
   ]
  },
  {
   "cell_type": "code",
   "execution_count": 34,
   "id": "47ef3193-ba27-447b-b657-a0d4acc9a9a0",
   "metadata": {},
   "outputs": [],
   "source": [
    "affinity_data[['pdbid', '-logKd/Ki', 'set']].to_csv('../data/affinity_data_cleaned.csv', index=False)"
   ]
  },
  {
   "cell_type": "code",
   "execution_count": 87,
   "id": "c4eba29c-0b71-482d-bb48-8d6314097b7d",
   "metadata": {},
   "outputs": [
    {
     "data": {
      "text/html": [
       "<div>\n",
       "<style scoped>\n",
       "    .dataframe tbody tr th:only-of-type {\n",
       "        vertical-align: middle;\n",
       "    }\n",
       "\n",
       "    .dataframe tbody tr th {\n",
       "        vertical-align: top;\n",
       "    }\n",
       "\n",
       "    .dataframe thead th {\n",
       "        text-align: right;\n",
       "    }\n",
       "</style>\n",
       "<table border=\"1\" class=\"dataframe\">\n",
       "  <thead>\n",
       "    <tr style=\"text-align: right;\">\n",
       "      <th></th>\n",
       "      <th>pdbid</th>\n",
       "      <th>-logKd/Ki</th>\n",
       "      <th>set</th>\n",
       "    </tr>\n",
       "  </thead>\n",
       "  <tbody>\n",
       "    <tr>\n",
       "      <th>0</th>\n",
       "      <td>3zzf</td>\n",
       "      <td>0.40</td>\n",
       "      <td>general</td>\n",
       "    </tr>\n",
       "    <tr>\n",
       "      <th>1</th>\n",
       "      <td>3gww</td>\n",
       "      <td>0.45</td>\n",
       "      <td>general</td>\n",
       "    </tr>\n",
       "    <tr>\n",
       "      <th>2</th>\n",
       "      <td>1w8l</td>\n",
       "      <td>0.49</td>\n",
       "      <td>general</td>\n",
       "    </tr>\n",
       "    <tr>\n",
       "      <th>3</th>\n",
       "      <td>3fqa</td>\n",
       "      <td>0.49</td>\n",
       "      <td>general</td>\n",
       "    </tr>\n",
       "    <tr>\n",
       "      <th>4</th>\n",
       "      <td>1zsb</td>\n",
       "      <td>0.60</td>\n",
       "      <td>general</td>\n",
       "    </tr>\n",
       "    <tr>\n",
       "      <th>...</th>\n",
       "      <td>...</td>\n",
       "      <td>...</td>\n",
       "      <td>...</td>\n",
       "    </tr>\n",
       "    <tr>\n",
       "      <th>13302</th>\n",
       "      <td>7cpa</td>\n",
       "      <td>13.96</td>\n",
       "      <td>general</td>\n",
       "    </tr>\n",
       "    <tr>\n",
       "      <th>13303</th>\n",
       "      <td>2xuf</td>\n",
       "      <td>14.39</td>\n",
       "      <td>general</td>\n",
       "    </tr>\n",
       "    <tr>\n",
       "      <th>13304</th>\n",
       "      <td>1avd</td>\n",
       "      <td>15.00</td>\n",
       "      <td>general</td>\n",
       "    </tr>\n",
       "    <tr>\n",
       "      <th>13305</th>\n",
       "      <td>2xui</td>\n",
       "      <td>15.00</td>\n",
       "      <td>general</td>\n",
       "    </tr>\n",
       "    <tr>\n",
       "      <th>13306</th>\n",
       "      <td>2avi</td>\n",
       "      <td>15.22</td>\n",
       "      <td>general</td>\n",
       "    </tr>\n",
       "  </tbody>\n",
       "</table>\n",
       "<p>13307 rows × 3 columns</p>\n",
       "</div>"
      ],
      "text/plain": [
       "      pdbid  -logKd/Ki      set\n",
       "0      3zzf       0.40  general\n",
       "1      3gww       0.45  general\n",
       "2      1w8l       0.49  general\n",
       "3      3fqa       0.49  general\n",
       "4      1zsb       0.60  general\n",
       "...     ...        ...      ...\n",
       "13302  7cpa      13.96  general\n",
       "13303  2xuf      14.39  general\n",
       "13304  1avd      15.00  general\n",
       "13305  2xui      15.00  general\n",
       "13306  2avi      15.22  general\n",
       "\n",
       "[13307 rows x 3 columns]"
      ]
     },
     "execution_count": 87,
     "metadata": {},
     "output_type": "execute_result"
    }
   ],
   "source": [
    "affinity_data"
   ]
  },
  {
   "cell_type": "code",
   "execution_count": 13,
   "id": "932c18c9-c0ab-4781-8632-a68617ddb562",
   "metadata": {},
   "outputs": [],
   "source": [
    "affinity_data = pd.read_csv('../data/affinity_data_cleaned.csv')\n",
    "general = affinity_data[affinity_data.set=='general']\n",
    "refined = affinity_data[affinity_data.set=='refined']\n",
    "core = affinity_data[affinity_data.set=='core']"
   ]
  },
  {
   "cell_type": "code",
   "execution_count": 75,
   "id": "b678226f-25ae-4fe1-ac93-b9193f4a702f",
   "metadata": {},
   "outputs": [],
   "source": [
    "qs = np.quantile(general['-logKd/Ki'], np.arange(0,1.1,0.1))\n",
    "qs[0]-=0.01\n",
    "idxs_train = []\n",
    "idxs_val = []\n",
    "for i in range(len(qs)-1):\n",
    "    q1 = qs[i]\n",
    "    q2 = qs[i+1]\n",
    "    gen_q = general[(general['-logKd/Ki']>q1) & (general['-logKd/Ki']<=q2)].index.values.tolist()\n",
    "    size_train = int(0.9*len(gen_q))\n",
    "    idx_train = random.sample(gen_q,size_train)\n",
    "    idx_val = [idx for idx in gen_q if idx not in idx_train]\n",
    "    idxs_train+=idx_train\n",
    "    idxs_val+=idx_val\n",
    "general_train = general.loc[idxs_train]\n",
    "general_train.set = 'general_train'\n",
    "general_val = general.loc[idxs_val]\n",
    "general_val.set = 'general_val'"
   ]
  },
  {
   "cell_type": "code",
   "execution_count": 78,
   "id": "c3e6ee22-6053-4964-b8fc-9c55365045d0",
   "metadata": {},
   "outputs": [],
   "source": [
    "qs = np.quantile(refined['-logKd/Ki'], np.arange(0,1.1,0.1))\n",
    "qs[0]-=0.01\n",
    "idxs_train = []\n",
    "idxs_val = []\n",
    "for i in range(len(qs)-1):\n",
    "    q1 = qs[i]\n",
    "    q2 = qs[i+1]\n",
    "    ref_q = refined[(refined['-logKd/Ki']>q1) & (refined['-logKd/Ki']<=q2)].index.values.tolist()\n",
    "    size_train = int(0.9*len(ref_q))\n",
    "    idx_train = random.sample(ref_q,size_train)\n",
    "    idx_val = [idx for idx in ref_q if idx not in idx_train]\n",
    "    idxs_train+=idx_train\n",
    "    idxs_val+=idx_val\n",
    "refined_train = refined.loc[idxs_train]\n",
    "refined_train.set = 'refined_train'\n",
    "refined_val = refined.loc[idxs_val]\n",
    "refined_val.set = 'refined_val'"
   ]
  },
  {
   "cell_type": "code",
   "execution_count": 88,
   "id": "e80925b6-dcd5-4ea5-8587-56305e49c564",
   "metadata": {},
   "outputs": [
    {
     "data": {
      "text/html": [
       "<div>\n",
       "<style scoped>\n",
       "    .dataframe tbody tr th:only-of-type {\n",
       "        vertical-align: middle;\n",
       "    }\n",
       "\n",
       "    .dataframe tbody tr th {\n",
       "        vertical-align: top;\n",
       "    }\n",
       "\n",
       "    .dataframe thead th {\n",
       "        text-align: right;\n",
       "    }\n",
       "</style>\n",
       "<table border=\"1\" class=\"dataframe\">\n",
       "  <thead>\n",
       "    <tr style=\"text-align: right;\">\n",
       "      <th></th>\n",
       "      <th>pdbid</th>\n",
       "      <th>-logKd/Ki</th>\n",
       "      <th>set</th>\n",
       "    </tr>\n",
       "  </thead>\n",
       "  <tbody>\n",
       "    <tr>\n",
       "      <th>640</th>\n",
       "      <td>2ay6</td>\n",
       "      <td>3.11</td>\n",
       "      <td>general_train</td>\n",
       "    </tr>\n",
       "    <tr>\n",
       "      <th>1326</th>\n",
       "      <td>2ou7</td>\n",
       "      <td>3.81</td>\n",
       "      <td>general_train</td>\n",
       "    </tr>\n",
       "    <tr>\n",
       "      <th>720</th>\n",
       "      <td>1x6u</td>\n",
       "      <td>3.22</td>\n",
       "      <td>general_train</td>\n",
       "    </tr>\n",
       "    <tr>\n",
       "      <th>1191</th>\n",
       "      <td>1bcj</td>\n",
       "      <td>3.70</td>\n",
       "      <td>general_train</td>\n",
       "    </tr>\n",
       "    <tr>\n",
       "      <th>1123</th>\n",
       "      <td>3udj</td>\n",
       "      <td>3.62</td>\n",
       "      <td>general_train</td>\n",
       "    </tr>\n",
       "    <tr>\n",
       "      <th>...</th>\n",
       "      <td>...</td>\n",
       "      <td>...</td>\n",
       "      <td>...</td>\n",
       "    </tr>\n",
       "    <tr>\n",
       "      <th>13225</th>\n",
       "      <td>5dwr</td>\n",
       "      <td>11.22</td>\n",
       "      <td>core</td>\n",
       "    </tr>\n",
       "    <tr>\n",
       "      <th>13237</th>\n",
       "      <td>4f2w</td>\n",
       "      <td>11.30</td>\n",
       "      <td>core</td>\n",
       "    </tr>\n",
       "    <tr>\n",
       "      <th>13240</th>\n",
       "      <td>2x00</td>\n",
       "      <td>11.33</td>\n",
       "      <td>core</td>\n",
       "    </tr>\n",
       "    <tr>\n",
       "      <th>13268</th>\n",
       "      <td>3o9i</td>\n",
       "      <td>11.82</td>\n",
       "      <td>core</td>\n",
       "    </tr>\n",
       "    <tr>\n",
       "      <th>13269</th>\n",
       "      <td>4f3c</td>\n",
       "      <td>11.82</td>\n",
       "      <td>core</td>\n",
       "    </tr>\n",
       "  </tbody>\n",
       "</table>\n",
       "<p>13307 rows × 3 columns</p>\n",
       "</div>"
      ],
      "text/plain": [
       "      pdbid  -logKd/Ki            set\n",
       "640    2ay6       3.11  general_train\n",
       "1326   2ou7       3.81  general_train\n",
       "720    1x6u       3.22  general_train\n",
       "1191   1bcj       3.70  general_train\n",
       "1123   3udj       3.62  general_train\n",
       "...     ...        ...            ...\n",
       "13225  5dwr      11.22           core\n",
       "13237  4f2w      11.30           core\n",
       "13240  2x00      11.33           core\n",
       "13268  3o9i      11.82           core\n",
       "13269  4f3c      11.82           core\n",
       "\n",
       "[13307 rows x 3 columns]"
      ]
     },
     "execution_count": 88,
     "metadata": {},
     "output_type": "execute_result"
    }
   ],
   "source": [
    "affinity_data = pd.concat([general_train, general_val, refined_train, refined_val, core])\n",
    "affinity_data"
   ]
  },
  {
   "cell_type": "code",
   "execution_count": 89,
   "id": "b8b2ba7a-1556-4a13-b52e-8023b6741279",
   "metadata": {},
   "outputs": [],
   "source": [
    "affinity_data.to_csv('../data/affinity_data_cleaned.csv', index=False)"
   ]
  },
  {
   "cell_type": "markdown",
   "id": "87c300e8-4223-4a44-9cec-b00e97c8a980",
   "metadata": {},
   "source": [
    "## Move .mol2 files"
   ]
  },
  {
   "cell_type": "code",
   "execution_count": 4,
   "id": "6298ab13-f289-4e67-90c1-5ac3c2e05818",
   "metadata": {},
   "outputs": [],
   "source": [
    "path='ligand_mol2_files.csv'"
   ]
  },
  {
   "cell_type": "code",
   "execution_count": 6,
   "id": "6738d7e1-baa2-40d5-96f2-5448acdef4f2",
   "metadata": {},
   "outputs": [],
   "source": [
    "path='pocket_mol2_files.csv'"
   ]
  },
  {
   "cell_type": "code",
   "execution_count": 7,
   "id": "33def79b-ea1c-4fb3-a9a1-4979f5aa9884",
   "metadata": {},
   "outputs": [
    {
     "name": "stdout",
     "output_type": "stream",
     "text": [
      "finished processing\n"
     ]
    }
   ],
   "source": [
    "%%bash -s $path\n",
    "path=$1\n",
    "cat $path | while read pdbfile; do\n",
    "        #echo ${pdbfile}\n",
    "        cp -R ${pdbfile} '../data/raw_data/'\n",
    "done\n",
    "echo \"finished processing\""
   ]
  },
  {
   "cell_type": "code",
   "execution_count": 8,
   "id": "24d1d037-7ee0-4696-a1ea-f4a5c0431c8b",
   "metadata": {},
   "outputs": [
    {
     "data": {
      "text/plain": [
       "13283"
      ]
     },
     "execution_count": 8,
     "metadata": {},
     "output_type": "execute_result"
    }
   ],
   "source": [
    "9226 +  4057"
   ]
  },
  {
   "cell_type": "code",
   "execution_count": null,
   "id": "ac79ca5b-fa75-4fb3-9aca-0595a39fd4d1",
   "metadata": {},
   "outputs": [],
   "source": []
  }
 ],
 "metadata": {
  "kernelspec": {
   "display_name": "Python 3 (ipykernel)",
   "language": "python",
   "name": "python3"
  },
  "language_info": {
   "codemirror_mode": {
    "name": "ipython",
    "version": 3
   },
   "file_extension": ".py",
   "mimetype": "text/x-python",
   "name": "python",
   "nbconvert_exporter": "python",
   "pygments_lexer": "ipython3",
   "version": "3.10.4"
  }
 },
 "nbformat": 4,
 "nbformat_minor": 5
}
