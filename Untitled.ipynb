{
 "cells": [
  {
   "cell_type": "markdown",
   "id": "b1d2cb8e",
   "metadata": {},
   "source": [
    "# Loading data"
   ]
  },
  {
   "cell_type": "code",
   "execution_count": 6,
   "id": "7b2f3412",
   "metadata": {},
   "outputs": [],
   "source": [
    "import torch\n",
    "import pandas as pd"
   ]
  },
  {
   "cell_type": "code",
   "execution_count": 13,
   "id": "9052bd1b",
   "metadata": {},
   "outputs": [
    {
     "name": "stdout",
     "output_type": "stream",
     "text": [
      "Defaulting to user installation because normal site-packages is not writeable\n",
      "Collecting matplotlib\n",
      "  Downloading matplotlib-3.5.2-cp310-cp310-manylinux_2_17_x86_64.manylinux2014_x86_64.whl (11.9 MB)\n",
      "\u001b[2K     \u001b[38;2;114;156;31m━━━━━━━━━━━━━━━━━━━━━━━━━━━━━━━━━━━━━━━━\u001b[0m \u001b[32m11.9/11.9 MB\u001b[0m \u001b[31m4.3 MB/s\u001b[0m eta \u001b[36m0:00:00\u001b[0mm eta \u001b[36m0:00:01\u001b[0m[36m0:00:01\u001b[0m\n",
      "\u001b[?25hCollecting cycler>=0.10\n",
      "  Downloading cycler-0.11.0-py3-none-any.whl (6.4 kB)\n",
      "Requirement already satisfied: packaging>=20.0 in /home/vscode/.local/lib/python3.10/site-packages (from matplotlib) (21.3)\n",
      "Requirement already satisfied: python-dateutil>=2.7 in /home/vscode/.local/lib/python3.10/site-packages (from matplotlib) (2.8.2)\n",
      "Requirement already satisfied: numpy>=1.17 in /usr/local/lib/python3.10/site-packages (from matplotlib) (1.23.0)\n",
      "Collecting fonttools>=4.22.0\n",
      "  Downloading fonttools-4.33.3-py3-none-any.whl (930 kB)\n",
      "\u001b[2K     \u001b[38;2;114;156;31m━━━━━━━━━━━━━━━━━━━━━━━━━━━━━━━━━━━━━━━\u001b[0m \u001b[32m930.9/930.9 KB\u001b[0m \u001b[31m5.7 MB/s\u001b[0m eta \u001b[36m0:00:00\u001b[0m MB/s\u001b[0m eta \u001b[36m0:00:01\u001b[0m:01\u001b[0m\n",
      "\u001b[?25hCollecting kiwisolver>=1.0.1\n",
      "  Downloading kiwisolver-1.4.3-cp310-cp310-manylinux_2_12_x86_64.manylinux2010_x86_64.whl (1.6 MB)\n",
      "\u001b[2K     \u001b[38;2;114;156;31m━━━━━━━━━━━━━━━━━━━━━━━━━━━━━━━━━━━━━━━━\u001b[0m \u001b[32m1.6/1.6 MB\u001b[0m \u001b[31m4.6 MB/s\u001b[0m eta \u001b[36m0:00:00\u001b[0mm eta \u001b[36m0:00:01\u001b[0m0:01\u001b[0m:01\u001b[0m\n",
      "\u001b[?25hRequirement already satisfied: pyparsing>=2.2.1 in /home/vscode/.local/lib/python3.10/site-packages (from matplotlib) (3.0.9)\n",
      "Requirement already satisfied: pillow>=6.2.0 in /usr/local/lib/python3.10/site-packages (from matplotlib) (9.1.1)\n",
      "Requirement already satisfied: six>=1.5 in /home/vscode/.local/lib/python3.10/site-packages (from python-dateutil>=2.7->matplotlib) (1.16.0)\n",
      "Installing collected packages: kiwisolver, fonttools, cycler, matplotlib\n",
      "Successfully installed cycler-0.11.0 fonttools-4.33.3 kiwisolver-1.4.3 matplotlib-3.5.2\n",
      "\u001b[33mWARNING: You are using pip version 22.0.4; however, version 22.1.2 is available.\n",
      "You should consider upgrading via the '/usr/local/bin/python -m pip install --upgrade pip' command.\u001b[0m\u001b[33m\n",
      "\u001b[0m"
     ]
    }
   ],
   "source": [
    "!pip install matplotlib"
   ]
  },
  {
   "cell_type": "code",
   "execution_count": 68,
   "id": "4733c872",
   "metadata": {},
   "outputs": [],
   "source": [
    "# import required libraries\n",
    "import h5py as h5\n",
    "import numpy as np\n",
    "import matplotlib.pyplot as plt\n",
    "\n",
    "# Read H5 file\n",
    "f = h5.File(\"core_test.hdf\", \"r\")\n",
    "# Get and print list of datasets within the H5 file\n",
    "datasetNames = [n for n in f.keys()]\n",
    "data = f.values()"
   ]
  },
  {
   "cell_type": "code",
   "execution_count": 69,
   "id": "949ca20e",
   "metadata": {},
   "outputs": [
    {
     "data": {
      "text/plain": [
       "290"
      ]
     },
     "execution_count": 69,
     "metadata": {},
     "output_type": "execute_result"
    }
   ],
   "source": [
    "len(datasetNames)"
   ]
  },
  {
   "cell_type": "code",
   "execution_count": 35,
   "id": "edace33f",
   "metadata": {},
   "outputs": [
    {
     "data": {
      "text/plain": [
       "(433, 22)"
      ]
     },
     "execution_count": 35,
     "metadata": {},
     "output_type": "execute_result"
    }
   ],
   "source": [
    "f[datasetNames[0]]['pybel']['processed']['pdbbind']['data'][()].shape"
   ]
  },
  {
   "cell_type": "code",
   "execution_count": null,
   "id": "34e4e1f8",
   "metadata": {},
   "outputs": [],
   "source": [
    "parser.add_argument(\"--data-dir\", default=\"/home/kim63/data\", help=\"dataset directory\")\n",
    "parser.add_argument(\"--mlhdf-fn\", default=\"pdbbind2019_crystal_refined_ml.hdf\", help=\"training ml-hdf path\")\n",
    "parser.add_argument(\"--dataset-type\", type=float, default=1, help=\"ml-hdf version, (1: for fusion, 1.5: for cfusion 2: ml-hdf v2)\")\n",
    "parser.add_argument(\"--csv-fn\", default=\"pdbbind2019_crystal_refined.csv\", help=\"training csv file path\")\n",
    "parser.add_argument(\"--rmsd-weight\", action='store_false', default=0, help=\"whether rmsd-based weighted loss is used or not\")\n",
    "parser.add_argument(\"--rmsd-threshold\", type=float, default=2, help=\"rmsd cut-off threshold in case of docking data and/or --rmsd-weight is true\")\n"
   ]
  },
  {
   "cell_type": "code",
   "execution_count": 62,
   "id": "51caf417",
   "metadata": {},
   "outputs": [],
   "source": [
    "from data_reader import Dataset_MLHDF\n",
    "import os\n",
    "args = {}\n",
    "args['data_dir'] = './'\n",
    "args['mlhdf_fn'] = 'core_test.hdf'\n",
    "args['dataset_type'] = 1\n",
    "args['csv_fn'] = 'pdbbind_2016_train_val_test.csv'\n",
    "args['rmsd_weight'] = 0\n",
    "args['rmsd_threshold'] = 2\n",
    "#args = pd.DataFrame.from_dict(args,orient='index').T"
   ]
  },
  {
   "cell_type": "code",
   "execution_count": 63,
   "id": "0287e632",
   "metadata": {},
   "outputs": [
    {
     "ename": "ValueError",
     "evalue": "could not convert string to float: '3zzf'",
     "output_type": "error",
     "traceback": [
      "\u001b[0;31m---------------------------------------------------------------------------\u001b[0m",
      "\u001b[0;31mValueError\u001b[0m                                Traceback (most recent call last)",
      "Input \u001b[0;32mIn [63]\u001b[0m, in \u001b[0;36m<cell line: 1>\u001b[0;34m()\u001b[0m\n\u001b[0;32m----> 1\u001b[0m dataset \u001b[38;5;241m=\u001b[39m \u001b[43mDataset_MLHDF\u001b[49m\u001b[43m(\u001b[49m\u001b[43mos\u001b[49m\u001b[38;5;241;43m.\u001b[39;49m\u001b[43mpath\u001b[49m\u001b[38;5;241;43m.\u001b[39;49m\u001b[43mjoin\u001b[49m\u001b[43m(\u001b[49m\u001b[43margs\u001b[49m\u001b[43m[\u001b[49m\u001b[38;5;124;43m'\u001b[39;49m\u001b[38;5;124;43mdata_dir\u001b[39;49m\u001b[38;5;124;43m'\u001b[39;49m\u001b[43m]\u001b[49m\u001b[43m,\u001b[49m\u001b[43m \u001b[49m\u001b[43margs\u001b[49m\u001b[43m[\u001b[49m\u001b[38;5;124;43m'\u001b[39;49m\u001b[38;5;124;43mmlhdf_fn\u001b[39;49m\u001b[38;5;124;43m'\u001b[39;49m\u001b[43m]\u001b[49m\u001b[43m)\u001b[49m\u001b[43m,\u001b[49m\u001b[43m \u001b[49m\u001b[43margs\u001b[49m\u001b[43m[\u001b[49m\u001b[38;5;124;43m'\u001b[39;49m\u001b[38;5;124;43mdataset_type\u001b[39;49m\u001b[38;5;124;43m'\u001b[39;49m\u001b[43m]\u001b[49m\u001b[43m,\u001b[49m\u001b[43m \u001b[49m\u001b[43mos\u001b[49m\u001b[38;5;241;43m.\u001b[39;49m\u001b[43mpath\u001b[49m\u001b[38;5;241;43m.\u001b[39;49m\u001b[43mjoin\u001b[49m\u001b[43m(\u001b[49m\u001b[43margs\u001b[49m\u001b[43m[\u001b[49m\u001b[38;5;124;43m'\u001b[39;49m\u001b[38;5;124;43mdata_dir\u001b[39;49m\u001b[38;5;124;43m'\u001b[39;49m\u001b[43m]\u001b[49m\u001b[43m,\u001b[49m\u001b[43m \u001b[49m\u001b[43margs\u001b[49m\u001b[43m[\u001b[49m\u001b[38;5;124;43m'\u001b[39;49m\u001b[38;5;124;43mcsv_fn\u001b[39;49m\u001b[38;5;124;43m'\u001b[39;49m\u001b[43m]\u001b[49m\u001b[43m)\u001b[49m\u001b[43m,\u001b[49m\u001b[43m \u001b[49m\u001b[43mis_crystal\u001b[49m\u001b[38;5;241;43m=\u001b[39;49m\u001b[38;5;28;43;01mFalse\u001b[39;49;00m\u001b[43m,\u001b[49m\u001b[43m \u001b[49m\u001b[43mrmsd_weight\u001b[49m\u001b[38;5;241;43m=\u001b[39;49m\u001b[43margs\u001b[49m\u001b[43m[\u001b[49m\u001b[38;5;124;43m'\u001b[39;49m\u001b[38;5;124;43mrmsd_weight\u001b[39;49m\u001b[38;5;124;43m'\u001b[39;49m\u001b[43m]\u001b[49m\u001b[43m,\u001b[49m\u001b[43m \u001b[49m\u001b[43mrmsd_thres\u001b[49m\u001b[38;5;241;43m=\u001b[39;49m\u001b[43margs\u001b[49m\u001b[43m[\u001b[49m\u001b[38;5;124;43m'\u001b[39;49m\u001b[38;5;124;43mrmsd_threshold\u001b[39;49m\u001b[38;5;124;43m'\u001b[39;49m\u001b[43m]\u001b[49m\u001b[43m)\u001b[49m\n",
      "File \u001b[0;32m/workspaces/FAST-QML/data_reader.py:44\u001b[0m, in \u001b[0;36mDataset_MLHDF.__init__\u001b[0;34m(self, mlhdf_path, mlhdf_ver, csv_path, is_crystal, rmsd_weight, rmsd_thres, max_atoms, feat_dim)\u001b[0m\n\u001b[1;32m     42\u001b[0m \t\t\u001b[38;5;28mnext\u001b[39m(csv_reader)\n\u001b[1;32m     43\u001b[0m \t\t\u001b[38;5;28;01mfor\u001b[39;00m row \u001b[38;5;129;01min\u001b[39;00m csv_reader:\n\u001b[0;32m---> 44\u001b[0m \t\t\t\u001b[38;5;28;01mif\u001b[39;00m \u001b[38;5;28;43mfloat\u001b[39;49m\u001b[43m(\u001b[49m\u001b[43mrow\u001b[49m\u001b[43m[\u001b[49m\u001b[38;5;241;43m2\u001b[39;49m\u001b[43m]\u001b[49m\u001b[43m)\u001b[49m \u001b[38;5;241m<\u001b[39m\u001b[38;5;241m=\u001b[39m rmsd_thres:\n\u001b[1;32m     45\u001b[0m \t\t\t\t\u001b[38;5;28mself\u001b[39m\u001b[38;5;241m.\u001b[39mdata_info_list\u001b[38;5;241m.\u001b[39mappend([row[\u001b[38;5;241m0\u001b[39m], row[\u001b[38;5;241m1\u001b[39m], \u001b[38;5;28mfloat\u001b[39m(row[\u001b[38;5;241m2\u001b[39m]), \u001b[38;5;28mfloat\u001b[39m(row[\u001b[38;5;241m3\u001b[39m])])\n\u001b[1;32m     46\u001b[0m \u001b[38;5;28;01mexcept\u001b[39;00m \u001b[38;5;167;01mIOError\u001b[39;00m:\n",
      "\u001b[0;31mValueError\u001b[0m: could not convert string to float: '3zzf'"
     ]
    }
   ],
   "source": [
    "dataset = Dataset_MLHDF(os.path.join(args['data_dir'], args['mlhdf_fn']), args['dataset_type'], os.path.join(args['data_dir'], args['csv_fn']), is_crystal=False, rmsd_weight=args['rmsd_weight'], rmsd_thres=args['rmsd_threshold'])"
   ]
  },
  {
   "cell_type": "markdown",
   "id": "6e05ceec-4393-4502-be24-56c7bc42e340",
   "metadata": {},
   "source": [
    "## Affinity data"
   ]
  },
  {
   "cell_type": "code",
   "execution_count": 5,
   "id": "dda9bd26-1088-461b-9f71-b094526cac25",
   "metadata": {},
   "outputs": [],
   "source": [
    "import pandas as pd\n",
    "import numpy as np"
   ]
  },
  {
   "cell_type": "code",
   "execution_count": 7,
   "id": "9dc70e67-40f7-4548-908c-fdd4cfe81bc4",
   "metadata": {},
   "outputs": [
    {
     "data": {
      "text/html": [
       "<div>\n",
       "<style scoped>\n",
       "    .dataframe tbody tr th:only-of-type {\n",
       "        vertical-align: middle;\n",
       "    }\n",
       "\n",
       "    .dataframe tbody tr th {\n",
       "        vertical-align: top;\n",
       "    }\n",
       "\n",
       "    .dataframe thead th {\n",
       "        text-align: right;\n",
       "    }\n",
       "</style>\n",
       "<table border=\"1\" class=\"dataframe\">\n",
       "  <thead>\n",
       "    <tr style=\"text-align: right;\">\n",
       "      <th></th>\n",
       "      <th>pdbid</th>\n",
       "      <th>-logKd/Ki</th>\n",
       "    </tr>\n",
       "  </thead>\n",
       "  <tbody>\n",
       "    <tr>\n",
       "      <th>0</th>\n",
       "      <td>3zzf</td>\n",
       "      <td>0.40</td>\n",
       "    </tr>\n",
       "    <tr>\n",
       "      <th>1</th>\n",
       "      <td>3gww</td>\n",
       "      <td>0.45</td>\n",
       "    </tr>\n",
       "    <tr>\n",
       "      <th>2</th>\n",
       "      <td>1w8l</td>\n",
       "      <td>0.49</td>\n",
       "    </tr>\n",
       "    <tr>\n",
       "      <th>3</th>\n",
       "      <td>3fqa</td>\n",
       "      <td>0.49</td>\n",
       "    </tr>\n",
       "    <tr>\n",
       "      <th>4</th>\n",
       "      <td>1zsb</td>\n",
       "      <td>0.60</td>\n",
       "    </tr>\n",
       "  </tbody>\n",
       "</table>\n",
       "</div>"
      ],
      "text/plain": [
       "  pdbid  -logKd/Ki\n",
       "0  3zzf       0.40\n",
       "1  3gww       0.45\n",
       "2  1w8l       0.49\n",
       "3  3fqa       0.49\n",
       "4  1zsb       0.60"
      ]
     },
     "execution_count": 7,
     "metadata": {},
     "output_type": "execute_result"
    }
   ],
   "source": [
    "affinity_data = pd.read_csv('data/affinity_data.csv', comment='#')\n",
    "#affinity_data = affinity_data[~np.in1d(affinity_data['pdbid'], list(missing))]\n",
    "affinity_data.head()"
   ]
  },
  {
   "cell_type": "code",
   "execution_count": 10,
   "id": "5672f420-6830-4255-97e0-09789e4ec9d0",
   "metadata": {},
   "outputs": [
    {
     "data": {
      "text/plain": [
       "False"
      ]
     },
     "execution_count": 10,
     "metadata": {},
     "output_type": "execute_result"
    }
   ],
   "source": [
    "# Check for NaNs\n",
    "affinity_data['-logKd/Ki'].isnull().any()"
   ]
  }
 ],
 "metadata": {
  "kernelspec": {
   "display_name": "Python 3 (ipykernel)",
   "language": "python",
   "name": "python3"
  },
  "language_info": {
   "codemirror_mode": {
    "name": "ipython",
    "version": 3
   },
   "file_extension": ".py",
   "mimetype": "text/x-python",
   "name": "python",
   "nbconvert_exporter": "python",
   "pygments_lexer": "ipython3",
   "version": "3.10.4"
  }
 },
 "nbformat": 4,
 "nbformat_minor": 5
}
